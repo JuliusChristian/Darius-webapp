{
 "cells": [
  {
   "cell_type": "code",
   "execution_count": 5,
   "id": "43cb3897-dff9-4f9c-8061-3b01c499eae6",
   "metadata": {},
   "outputs": [
    {
     "ename": "ModuleNotFoundError",
     "evalue": "No module named 'streamlit'",
     "output_type": "error",
     "traceback": [
      "\u001b[1;31m---------------------------------------------------------------------------\u001b[0m",
      "\u001b[1;31mModuleNotFoundError\u001b[0m                       Traceback (most recent call last)",
      "\u001b[1;32m~\\AppData\\Local\\Temp/ipykernel_11652/942006150.py\u001b[0m in \u001b[0;36m<module>\u001b[1;34m\u001b[0m\n\u001b[1;32m----> 1\u001b[1;33m \u001b[1;32mimport\u001b[0m \u001b[0mstreamlit\u001b[0m \u001b[1;32mas\u001b[0m \u001b[0mst\u001b[0m\u001b[1;33m\u001b[0m\u001b[1;33m\u001b[0m\u001b[0m\n\u001b[0m",
      "\u001b[1;31mModuleNotFoundError\u001b[0m: No module named 'streamlit'"
     ]
    }
   ],
   "source": [
    "import streamlit as st"
   ]
  },
  {
   "cell_type": "code",
   "execution_count": 8,
   "id": "0aaedfd4-2066-41d1-81ff-8c9fe0d70a0f",
   "metadata": {},
   "outputs": [],
   "source": [
    "import pandas as pd"
   ]
  },
  {
   "cell_type": "code",
   "execution_count": 9,
   "id": "47141b95-6700-4793-965e-c385796d95cc",
   "metadata": {},
   "outputs": [],
   "source": [
    "data = pd.read_csv(\"diamonds_regression.csv\")"
   ]
  },
  {
   "cell_type": "code",
   "execution_count": 10,
   "id": "d8bcdd6a-0d74-4900-b18b-d2a788a66c8f",
   "metadata": {},
   "outputs": [
    {
     "name": "stdout",
     "output_type": "stream",
     "text": [
      "Requirement already satisfied: pipreqs in c:\\users\\juliu\\anaconda3\\lib\\site-packages (0.4.11)\n",
      "Requirement already satisfied: yarg in c:\\users\\juliu\\anaconda3\\lib\\site-packages (from pipreqs) (0.1.9)\n",
      "Requirement already satisfied: docopt in c:\\users\\juliu\\anaconda3\\lib\\site-packages (from pipreqs) (0.6.2)\n",
      "Requirement already satisfied: requests in c:\\users\\juliu\\anaconda3\\lib\\site-packages (from yarg->pipreqs) (2.26.0)\n",
      "Requirement already satisfied: idna<4,>=2.5 in c:\\users\\juliu\\anaconda3\\lib\\site-packages (from requests->yarg->pipreqs) (3.2)\n",
      "Requirement already satisfied: urllib3<1.27,>=1.21.1 in c:\\users\\juliu\\anaconda3\\lib\\site-packages (from requests->yarg->pipreqs) (1.26.7)\n",
      "Requirement already satisfied: charset-normalizer~=2.0.0 in c:\\users\\juliu\\anaconda3\\lib\\site-packages (from requests->yarg->pipreqs) (2.0.4)\n",
      "Requirement already satisfied: certifi>=2017.4.17 in c:\\users\\juliu\\anaconda3\\lib\\site-packages (from requests->yarg->pipreqs) (2021.10.8)\n",
      "Note: you may need to restart the kernel to use updated packages.\n"
     ]
    }
   ],
   "source": [
    "pip install pipreqs"
   ]
  },
  {
   "cell_type": "raw",
   "id": "53946683-bf98-45a5-89d5-d656f288ba97",
   "metadata": {},
   "source": [
    "!pipreqs"
   ]
  },
  {
   "cell_type": "code",
   "execution_count": 11,
   "id": "8015e743-a326-4c9e-abaa-d74e396e5770",
   "metadata": {},
   "outputs": [
    {
     "name": "stdout",
     "output_type": "stream",
     "text": [
      "Requirement already satisfied: pipreqs in c:\\users\\juliu\\anaconda3\\lib\\site-packages (0.4.11)\n",
      "Requirement already satisfied: docopt in c:\\users\\juliu\\anaconda3\\lib\\site-packages (from pipreqs) (0.6.2)\n",
      "Requirement already satisfied: yarg in c:\\users\\juliu\\anaconda3\\lib\\site-packages (from pipreqs) (0.1.9)\n",
      "Requirement already satisfied: requests in c:\\users\\juliu\\anaconda3\\lib\\site-packages (from yarg->pipreqs) (2.26.0)\n",
      "Requirement already satisfied: idna<4,>=2.5 in c:\\users\\juliu\\anaconda3\\lib\\site-packages (from requests->yarg->pipreqs) (3.2)\n",
      "Requirement already satisfied: urllib3<1.27,>=1.21.1 in c:\\users\\juliu\\anaconda3\\lib\\site-packages (from requests->yarg->pipreqs) (1.26.7)\n",
      "Requirement already satisfied: charset-normalizer~=2.0.0 in c:\\users\\juliu\\anaconda3\\lib\\site-packages (from requests->yarg->pipreqs) (2.0.4)\n",
      "Requirement already satisfied: certifi>=2017.4.17 in c:\\users\\juliu\\anaconda3\\lib\\site-packages (from requests->yarg->pipreqs) (2021.10.8)\n"
     ]
    }
   ],
   "source": [
    "!pip install pipreqs"
   ]
  },
  {
   "cell_type": "code",
   "execution_count": 12,
   "id": "fa331fd5-8f5d-46e8-a358-d8f12f764013",
   "metadata": {},
   "outputs": [
    {
     "name": "stderr",
     "output_type": "stream",
     "text": [
      "WARNING: requirements.txt already exists, use --force to overwrite it\n"
     ]
    }
   ],
   "source": [
    "!pipreqs"
   ]
  },
  {
   "cell_type": "code",
   "execution_count": null,
   "id": "83d60ce9-1881-4de7-8243-78b1b5d4c69f",
   "metadata": {},
   "outputs": [],
   "source": []
  },
  {
   "cell_type": "code",
   "execution_count": null,
   "id": "cdc488ee-c65f-47c1-a67f-730b6b8483da",
   "metadata": {},
   "outputs": [],
   "source": []
  }
 ],
 "metadata": {
  "kernelspec": {
   "display_name": "Python 3 (ipykernel)",
   "language": "python",
   "name": "python3"
  },
  "language_info": {
   "codemirror_mode": {
    "name": "ipython",
    "version": 3
   },
   "file_extension": ".py",
   "mimetype": "text/x-python",
   "name": "python",
   "nbconvert_exporter": "python",
   "pygments_lexer": "ipython3",
   "version": "3.9.7"
  }
 },
 "nbformat": 4,
 "nbformat_minor": 5
}
